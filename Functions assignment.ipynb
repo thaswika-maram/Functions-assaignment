{
 "cells": [
  {
   "cell_type": "markdown",
   "id": "48ce302e",
   "metadata": {},
   "source": [
    "# Functions assaignment"
   ]
  },
  {
   "cell_type": "markdown",
   "id": "17fc79f0",
   "metadata": {},
   "source": [
    "# Theory questions"
   ]
  },
  {
   "cell_type": "markdown",
   "id": "cffd1c20",
   "metadata": {},
   "source": [
    "1. What is the difference between a function and a method in Python?\n",
    "- Function:\n",
    "   - Definition: A function is defined using the def keyword and exists independently of any object.\n",
    "   - Usage: Can be called on its own.\n",
    "\n",
    "- Method:\n",
    "   - Definition: A method is a function that is associated with an object (i.e., it's defined inside a class).\n",
    "   - Usage: Called using dot (.) notation on an object, and it automatically receives the instance (self) as the first parameter."
   ]
  },
  {
   "cell_type": "code",
   "execution_count": 48,
   "id": "6f96b929",
   "metadata": {},
   "outputs": [
    {
     "name": "stdout",
     "output_type": "stream",
     "text": [
      "Hello, Alice!\n"
     ]
    }
   ],
   "source": [
    "# Example for function\n",
    "def greet(name):\n",
    "    return f\"Hello, {name}!\"\n",
    "\n",
    "print(greet(\"Alice\"))"
   ]
  },
  {
   "cell_type": "code",
   "execution_count": 49,
   "id": "10684446",
   "metadata": {},
   "outputs": [
    {
     "name": "stdout",
     "output_type": "stream",
     "text": [
      "Hello, Bob!\n"
     ]
    }
   ],
   "source": [
    "#Example for method\n",
    "class Greeter:\n",
    "    def greet(self, name):\n",
    "        return f\"Hello, {name}!\"\n",
    "\n",
    "g = Greeter()\n",
    "print(g.greet(\"Bob\"))\n"
   ]
  },
  {
   "cell_type": "markdown",
   "id": "88a2da23",
   "metadata": {},
   "source": [
    "2. Explain the concept of function arguments and parameters in Python ?\n",
    "- In Python, function arguments and parameters are closely related but have distinct meanings:\n",
    "    - Parameter : The variable names in a function definition.\n",
    "    - Argument  : The actual values you pass to the function when calling it.\n",
    "- Types of Function Arguments in Python:\n",
    "- 1. Positional Arguments\n",
    "   - Passed in order.\n",
    "- 2. Keyword arguments\n",
    "   - Specify which parameter gets which value using key=value.\n",
    "- 3. Default arguments\n",
    "   - Provide a default value if none is passed.\n",
    "- 4. Varable length arguments\n",
    "   - *args: Accepts any number of positional arguments as a tuple.\n",
    "   - **kwargs: Accepts any number of keyword arguments as a dictionary\n"
   ]
  },
  {
   "cell_type": "code",
   "execution_count": 50,
   "id": "218500de",
   "metadata": {},
   "outputs": [
    {
     "data": {
      "text/plain": [
       "5"
      ]
     },
     "execution_count": 50,
     "metadata": {},
     "output_type": "execute_result"
    }
   ],
   "source": [
    "#example for positional arguments\n",
    "def add(a, b):\n",
    "    return a + b\n",
    "add(2, 3)  # 2 is a, 3 is b"
   ]
  },
  {
   "cell_type": "code",
   "execution_count": 51,
   "id": "d0479716",
   "metadata": {},
   "outputs": [
    {
     "data": {
      "text/plain": [
       "5"
      ]
     },
     "execution_count": 51,
     "metadata": {},
     "output_type": "execute_result"
    }
   ],
   "source": [
    "#example for  keyword arguments\n",
    "add(a=2, b=3)"
   ]
  },
  {
   "cell_type": "code",
   "execution_count": 52,
   "id": "78b8c56c",
   "metadata": {},
   "outputs": [
    {
     "name": "stdout",
     "output_type": "stream",
     "text": [
      "Hello, Guest!\n",
      "Hello, Alice!\n"
     ]
    }
   ],
   "source": [
    "#example for default arguments\n",
    "def greet(name=\"Guest\"):\n",
    "    print(f\"Hello, {name}!\")\n",
    "greet()           # Hello, Guest!\n",
    "greet(\"Alice\")    # Hello, Alice!"
   ]
  },
  {
   "cell_type": "code",
   "execution_count": 53,
   "id": "c6abb83b",
   "metadata": {},
   "outputs": [
    {
     "data": {
      "text/plain": [
       "6"
      ]
     },
     "execution_count": 53,
     "metadata": {},
     "output_type": "execute_result"
    }
   ],
   "source": [
    "#example for variable-length arguments\n",
    "#using *args\n",
    "def total(*args):\n",
    "    return sum(args)\n",
    "total(1, 2, 3)  "
   ]
  },
  {
   "cell_type": "code",
   "execution_count": 54,
   "id": "91ceada8",
   "metadata": {},
   "outputs": [
    {
     "name": "stdout",
     "output_type": "stream",
     "text": [
      "name: Alice\n",
      "age: 30\n"
     ]
    }
   ],
   "source": [
    "#using **kwargs\n",
    "def show_info(**kwargs):\n",
    "    for key, value in kwargs.items():\n",
    "        print(f\"{key}: {value}\")\n",
    "show_info(name=\"Alice\", age=30)"
   ]
  },
  {
   "cell_type": "markdown",
   "id": "d876e1a4",
   "metadata": {},
   "source": [
    "3. What are the different ways to define and call a function in Python? \n",
    "- In Python, you can define and call functions in several ways depending on your needs. Here’s a breakdown of the different ways to define and call functions:\n",
    "- 1. Standard Function Definition\n",
    "    - Defined using the def keyword.\n",
    "- 2. Function with Default Parameters\n",
    "    - You can assign default values to parameters.\n",
    "- 3. Function with Variable-Length Arguments\n",
    "    - *args – Multiple Positional Arguments\n",
    "    - **kwargs – Multiple Keyword Arguments\n",
    "- 4. Lambda Functions (Anonymous Functions)\n",
    "    - Used for short, one-line functions.\n",
    "-  5. Nested Functions\n",
    "    - A function defined inside another function.\n",
    "- 6. Functions as Arguments (Higher-Order Functions)\n",
    "    - Functions can be passed to other functions.\n",
    "- 7. Calling Functions with Positional and Keyword Arguments\n",
    "- 8. Recursion\n",
    "    - A function calling itself."
   ]
  },
  {
   "cell_type": "code",
   "execution_count": 55,
   "id": "f4b2fd13",
   "metadata": {},
   "outputs": [
    {
     "name": "stdout",
     "output_type": "stream",
     "text": [
      "Hello, Alice!\n"
     ]
    }
   ],
   "source": [
    "# example for standard function\n",
    "def greet(name):\n",
    "    print(f\"Hello, {name}!\")\n",
    "greet(\"Alice\")  # Function call"
   ]
  },
  {
   "cell_type": "code",
   "execution_count": 56,
   "id": "ea586cac",
   "metadata": {},
   "outputs": [
    {
     "name": "stdout",
     "output_type": "stream",
     "text": [
      "Hello, Guest!\n",
      "Hello, Bob!\n"
     ]
    }
   ],
   "source": [
    "# example for function with default parameters\n",
    "def greet(name=\"Guest\"):\n",
    "    print(f\"Hello, {name}!\")\n",
    "greet()           # Hello, Guest!\n",
    "greet(\"Bob\")      # Hello, Bob!"
   ]
  },
  {
   "cell_type": "code",
   "execution_count": 57,
   "id": "c724d8c3",
   "metadata": {},
   "outputs": [
    {
     "name": "stdout",
     "output_type": "stream",
     "text": [
      "6\n"
     ]
    }
   ],
   "source": [
    "# example for function with variable-length arguments\n",
    "# using *args\n",
    "def add(*args):\n",
    "    print(sum(args))\n",
    "add(1, 2, 3)  # 6"
   ]
  },
  {
   "cell_type": "code",
   "execution_count": 58,
   "id": "b379bfc6",
   "metadata": {},
   "outputs": [
    {
     "name": "stdout",
     "output_type": "stream",
     "text": [
      "name: Alice\n",
      "age: 30\n"
     ]
    }
   ],
   "source": [
    "# using **kwargs\n",
    "def show_info(**kwargs):\n",
    "    for key, value in kwargs.items():\n",
    "        print(f\"{key}: {value}\")\n",
    "show_info(name=\"Alice\", age=30)"
   ]
  },
  {
   "cell_type": "code",
   "execution_count": 59,
   "id": "76818181",
   "metadata": {},
   "outputs": [
    {
     "name": "stdout",
     "output_type": "stream",
     "text": [
      "16\n"
     ]
    }
   ],
   "source": [
    "# example for lambda functions\n",
    "square = lambda x: x * x\n",
    "print(square(4)) "
   ]
  },
  {
   "cell_type": "code",
   "execution_count": 60,
   "id": "23e140cb",
   "metadata": {},
   "outputs": [
    {
     "name": "stdout",
     "output_type": "stream",
     "text": [
      "Inside inner function\n"
     ]
    }
   ],
   "source": [
    "# example for nested functions\n",
    "def outer():\n",
    "    def inner():\n",
    "        print(\"Inside inner function\")\n",
    "    inner()\n",
    "outer()"
   ]
  },
  {
   "cell_type": "code",
   "execution_count": 61,
   "id": "db369fcc",
   "metadata": {},
   "outputs": [
    {
     "name": "stdout",
     "output_type": "stream",
     "text": [
      "HELLO\n"
     ]
    }
   ],
   "source": [
    "# example for function as arguments\n",
    "def shout(text):\n",
    "    return text.upper()\n",
    "def greet(func):\n",
    "    print(func(\"hello\"))\n",
    "greet(shout)"
   ]
  },
  {
   "cell_type": "code",
   "execution_count": 62,
   "id": "88138534",
   "metadata": {},
   "outputs": [
    {
     "name": "stdout",
     "output_type": "stream",
     "text": [
      "Alice is 25 years old.\n",
      "Alice is 25 years old.\n"
     ]
    }
   ],
   "source": [
    "# example for calling functions with positional and keyword arguments\n",
    "def user_info(name, age):\n",
    "    print(f\"{name} is {age} years old.\")\n",
    "user_info(\"Alice\", 25)                \n",
    "user_info(age=25, name=\"Alice\")       \n"
   ]
  },
  {
   "cell_type": "code",
   "execution_count": 63,
   "id": "609fa1c5",
   "metadata": {},
   "outputs": [
    {
     "name": "stdout",
     "output_type": "stream",
     "text": [
      "120\n"
     ]
    }
   ],
   "source": [
    "# example for recursion\n",
    "def factorial(n):\n",
    "    if n == 0:\n",
    "        return 1\n",
    "    return n * factorial(n - 1)\n",
    "print(factorial(5))  "
   ]
  },
  {
   "cell_type": "markdown",
   "id": "35597183",
   "metadata": {},
   "source": [
    "4. What is the purpose of the `return` statement in a Python function?\n",
    "- The return statement in a Python function serves the following main purposes:\n",
    "- 1. Send a Result Back to the Caller\n",
    "    - It specifies the value that the function will give back when it's done.\n",
    "    - Without a return, a function returns None by default.\n",
    "- 2. End Function Execution\n",
    "    - When Python reaches a return statement, it exits the function immediately.\n",
    "    - Code after return in the same block will not be executed.\n",
    "- 3. Return Multiple Values (as a Tuple)\n",
    "    - Python allows returning multiple values using a comma-separated list."
   ]
  },
  {
   "cell_type": "code",
   "execution_count": 64,
   "id": "ded768a5",
   "metadata": {},
   "outputs": [
    {
     "name": "stdout",
     "output_type": "stream",
     "text": [
      "7\n"
     ]
    }
   ],
   "source": [
    "# example for \" send a result back to the caller\"\n",
    "def add(a, b):\n",
    "    return a + b\n",
    "result = add(3, 4)\n",
    "print(result)  # Output: 7"
   ]
  },
  {
   "cell_type": "code",
   "execution_count": 65,
   "id": "3d084c51",
   "metadata": {},
   "outputs": [],
   "source": [
    "# example for \" end function execution\"\n",
    "def example():\n",
    "    return \"Done\"\n",
    "    print(\"This won't run\")  #Unreachable code"
   ]
  },
  {
   "cell_type": "code",
   "execution_count": 66,
   "id": "f0ab9b12",
   "metadata": {},
   "outputs": [
    {
     "name": "stdout",
     "output_type": "stream",
     "text": [
      "Alice 30\n"
     ]
    }
   ],
   "source": [
    "# example for \"return multiple values\"\n",
    "def get_info():\n",
    "    name = \"Alice\"\n",
    "    age = 30\n",
    "    return name, age\n",
    "n, a = get_info()\n",
    "print(n, a)  "
   ]
  },
  {
   "cell_type": "markdown",
   "id": "73ecb45b",
   "metadata": {},
   "source": [
    "5. What are iterators in Python and how do they differ from iterables? \n",
    "- An iterable is any object that can be looped over (i.e., it implements the __iter__() method).\n",
    "- An iterator is an object that remembers its position during iteration.\n",
    "It implements two methods:\n",
    "   -  __iter__() – returns the iterator object itself.\n",
    "\n",
    "   -  __next__() – returns the next value and raises StopIteration when done"
   ]
  },
  {
   "cell_type": "code",
   "execution_count": 67,
   "id": "10874a45",
   "metadata": {},
   "outputs": [
    {
     "name": "stdout",
     "output_type": "stream",
     "text": [
      "1\n",
      "2\n",
      "3\n"
     ]
    }
   ],
   "source": [
    "# example for iterables\n",
    "my_list = [1, 2, 3]\n",
    "for item in my_list:  # my_list is iterable\n",
    "    print(item)"
   ]
  },
  {
   "cell_type": "code",
   "execution_count": 68,
   "id": "c9c862c0",
   "metadata": {},
   "outputs": [
    {
     "name": "stdout",
     "output_type": "stream",
     "text": [
      "3\n",
      "2\n",
      "1\n"
     ]
    }
   ],
   "source": [
    "# example for iterator\n",
    "class CountDown:\n",
    "    def __init__(self, start):\n",
    "        self.num = start\n",
    "\n",
    "    def __iter__(self):\n",
    "        return self\n",
    "\n",
    "    def __next__(self):\n",
    "        if self.num <= 0:\n",
    "            raise StopIteration\n",
    "        val = self.num\n",
    "        self.num -= 1\n",
    "        return val\n",
    "\n",
    "for val in CountDown(3):\n",
    "    print(val)  \n",
    "\n"
   ]
  },
  {
   "cell_type": "markdown",
   "id": "e2b855d9",
   "metadata": {},
   "source": [
    "6. Explain the concept of generators in Python and how they are defined.\n",
    "- A generator is a special type of iterator in Python that yields values one at a time, only when requested, using the yield keyword instead of return.\n",
    "- They are useful when:\n",
    "    - You are working with large datasets.\n",
    "    - You want to save memory.\n",
    "    - You don't need to store all values in memory at once.\n",
    "- There are two main ways to define generators in Python:\n",
    "1. Generator Functions (Using yield)\n",
    "    - A generator function is defined like a normal function, but uses the yield keyword instead of return.\n",
    "    - Every time yield is called, the function's state is saved, and it resumes from there next time.\n",
    "2. Generator Expressions (Like list comprehensions)\n",
    "    - Similar to list comprehensions, but with round brackets instead of square brackets:"
   ]
  },
  {
   "cell_type": "code",
   "execution_count": 69,
   "id": "e1b817e4",
   "metadata": {},
   "outputs": [
    {
     "name": "stdout",
     "output_type": "stream",
     "text": [
      "5\n",
      "4\n",
      "3\n",
      "2\n",
      "1\n"
     ]
    }
   ],
   "source": [
    "# example for generator function (using yeild feild)\n",
    "def countdown(n):\n",
    "    while n > 0:\n",
    "        yield n\n",
    "        n -= 1\n",
    "#usage\n",
    "gen = countdown(5)\n",
    "for num in gen:\n",
    "    print(num)"
   ]
  },
  {
   "cell_type": "code",
   "execution_count": 70,
   "id": "fecf4c10",
   "metadata": {},
   "outputs": [
    {
     "name": "stdout",
     "output_type": "stream",
     "text": [
      "0\n",
      "1\n",
      "4\n",
      "9\n",
      "16\n"
     ]
    }
   ],
   "source": [
    "# example for generator expresiion (like list comprehension)\n",
    "squares = (x * x for x in range(5))\n",
    "for sq in squares:\n",
    "    print(sq)\n"
   ]
  },
  {
   "cell_type": "markdown",
   "id": "60275378",
   "metadata": {},
   "source": [
    "7. What are the advantages of using generators over regular functions?\n",
    "- Generators offer several advantages over regular functions, especially when working with large datasets or streams of data. Here's a breakdown of their key benefits:\n",
    "1. Memory Efficiency\n",
    "    - Generators produce items one at a time, rather than storing the entire result in memory.\n",
    "    - Regular functions (returning lists, for example) store all values at once, which can be memory-intensive.\n",
    " 2. Lazy Evaluation\n",
    "    - Values are generated on demand — they are computed only when needed.\n",
    "    - This is especially useful when the full sequence may not be used.\n",
    " 3. Infinite Sequences\n",
    "    - Generators can represent infinite streams of data, which is impossible with regular functions that return collections.\n",
    " 4. Pipeline Capabilities\n",
    "    - Generators can be chained together for processing pipelines (like Unix pipes).\n",
    " 5. Simplifies Code for Iteration\n",
    "    - You don’t need to manage state manually (like index counters) — the generator does it internally.\n",
    " 6. Pause and Resume Execution\n",
    "    - With yield, a generator can pause and resume at the same point, making it useful for coroutines and asynchronous programming patterns.\n"
   ]
  },
  {
   "cell_type": "code",
   "execution_count": 71,
   "id": "bf64ca7a",
   "metadata": {},
   "outputs": [],
   "source": [
    "# example for memory efficiency\n",
    "# Using a generator\n",
    "def count_up_to(n):\n",
    "    for i in range(n):\n",
    "        yield i\n",
    "# Using a regular function\n",
    "def count_up_to_list(n):\n",
    "    return [i for i in range(n)]\n",
    "#If n = 10**7, the generator will use far less memory."
   ]
  },
  {
   "cell_type": "code",
   "execution_count": 72,
   "id": "8dd5c445",
   "metadata": {},
   "outputs": [
    {
     "name": "stdout",
     "output_type": "stream",
     "text": [
      "0\n"
     ]
    }
   ],
   "source": [
    "# example for lazy evaluation\n",
    "gen = (x * x for x in range(1000000))\n",
    "print(next(gen))  # Only computes the first value\n"
   ]
  },
  {
   "cell_type": "code",
   "execution_count": 73,
   "id": "368452a0",
   "metadata": {},
   "outputs": [],
   "source": [
    "# example for infinite sequences\n",
    "def infinite_count():\n",
    "    n = 0\n",
    "    while True:\n",
    "        yield n\n",
    "        n += 1\n"
   ]
  },
  {
   "cell_type": "code",
   "execution_count": 74,
   "id": "400cc5ad",
   "metadata": {},
   "outputs": [],
   "source": [
    "# example for pipeline capability\n",
    "def read_lines(file):\n",
    "    for line in file:\n",
    "        yield line.strip()\n",
    "def filter_nonempty(lines):\n",
    "    for line in lines:\n",
    "        if line:\n",
    "            yield line"
   ]
  },
  {
   "cell_type": "markdown",
   "id": "ee8895a1",
   "metadata": {},
   "source": [
    "8. What is a lambda function in Python and when is it typically used?\n",
    "- A lambda function in Python is a small, anonymous function defined using the lambda keyword.\n",
    "- It can have any number of arguments but only one expression.\n",
    "- It returns the result of that expression automatically (no return statement needed).\n",
    "- Common Use Cases for Lambda Functions:\n",
    "    - Lambda functions are typically used when:\n",
    "    - You need a simple, throwaway function.\n",
    "    - You want to avoid naming a function that’s only used once.\n",
    "    - You’re working with functional programming tools like map(), filter(), and sorted()."
   ]
  },
  {
   "cell_type": "code",
   "execution_count": 75,
   "id": "e93754f3",
   "metadata": {},
   "outputs": [
    {
     "name": "stdout",
     "output_type": "stream",
     "text": [
      "25\n"
     ]
    }
   ],
   "source": [
    "square = lambda x: x * x\n",
    "print(square(5))  "
   ]
  },
  {
   "cell_type": "code",
   "execution_count": 76,
   "id": "77f9aff1",
   "metadata": {},
   "outputs": [
    {
     "name": "stdout",
     "output_type": "stream",
     "text": [
      "[1, 4, 9, 16]\n"
     ]
    }
   ],
   "source": [
    "#Examples of Usage With map()\n",
    "nums = [1, 2, 3, 4]\n",
    "squares = list(map(lambda x: x**2, nums))\n",
    "print(squares)  # [1, 4, 9, 16]"
   ]
  },
  {
   "cell_type": "code",
   "execution_count": 77,
   "id": "fd624010",
   "metadata": {},
   "outputs": [
    {
     "name": "stdout",
     "output_type": "stream",
     "text": [
      "[2, 4]\n"
     ]
    }
   ],
   "source": [
    "#Examples of Usage With filter()\n",
    "nums = [1, 2, 3, 4, 5]\n",
    "even = list(filter(lambda x: x % 2 == 0, nums))\n",
    "print(even)  # [2, 4]"
   ]
  },
  {
   "cell_type": "code",
   "execution_count": 78,
   "id": "48de1c9c",
   "metadata": {},
   "outputs": [
    {
     "name": "stdout",
     "output_type": "stream",
     "text": [
      "[(1, 'one'), (3, 'three'), (2, 'two')]\n"
     ]
    }
   ],
   "source": [
    "#Examples of Usage With sorted() and key-custom sorting\n",
    "pairs = [(1, 'one'), (3, 'three'), (2, 'two')]\n",
    "sorted_pairs = sorted(pairs, key=lambda x: x[1])\n",
    "print(sorted_pairs)  "
   ]
  },
  {
   "cell_type": "markdown",
   "id": "addea4f9",
   "metadata": {},
   "source": [
    "9. Explain the purpose and usage of the `map()` function in Python.\n",
    "- The map() function is a built-in Python function that allows you to apply a function to every item in an iterable (like a list or tuple) and returns a map object (an iterator) with the results.\n",
    "- Key Features of map()\n",
    "    - Lazy evaluation: Returns an iterator. You must convert it (e.g., using list()) to view results.\n",
    "    - Efficient for large data sets.\n",
    "    - Works with multiple iterables (e.g., combining elements).\n",
    "- Use Cases of map()\n",
    "1. Applying a function to all elements in a list\n",
    "2. Using lambda with map()\n",
    "3. With multiple iterables"
   ]
  },
  {
   "cell_type": "code",
   "execution_count": 79,
   "id": "0f5f2a42",
   "metadata": {},
   "outputs": [
    {
     "name": "stdout",
     "output_type": "stream",
     "text": [
      "['ALICE', 'BOB', 'CAROL']\n"
     ]
    }
   ],
   "source": [
    "# example  Applying a function to all elements in a list\n",
    "def to_upper(s):\n",
    "    return s.upper()\n",
    "names = [\"alice\", \"bob\", \"carol\"]\n",
    "result = map(to_upper, names)\n",
    "print(list(result))  "
   ]
  },
  {
   "cell_type": "code",
   "execution_count": 80,
   "id": "c9702d42",
   "metadata": {},
   "outputs": [
    {
     "name": "stdout",
     "output_type": "stream",
     "text": [
      "[15, 25, 35]\n"
     ]
    }
   ],
   "source": [
    "#example  Using lambda with map()\n",
    "nums = [10, 20, 30]\n",
    "result = map(lambda x: x + 5, nums)\n",
    "print(list(result))  \n"
   ]
  },
  {
   "cell_type": "code",
   "execution_count": 81,
   "id": "3952214d",
   "metadata": {},
   "outputs": [
    {
     "name": "stdout",
     "output_type": "stream",
     "text": [
      "[5, 7, 9]\n"
     ]
    }
   ],
   "source": [
    "# example  With multiple iterables\n",
    "a = [1, 2, 3]\n",
    "b = [4, 5, 6]\n",
    "result = map(lambda x, y: x + y, a, b)\n",
    "print(list(result)) "
   ]
  },
  {
   "cell_type": "markdown",
   "id": "d5d8e9be",
   "metadata": {},
   "source": [
    " 10. What is the difference between `map()`, `reduce()`, and `filter()` functions in Python?\n",
    " - map(), reduce(), and filter() are functional programming tools in Python. They all take a function and one or more iterables as input, but they serve different purposes.\n",
    "1. map(): Transforms each item\n",
    "    - Applies a function to every element of an iterable.\n",
    "    - Returns a new iterable (map object) with the transformed values.\n",
    "2. filter(): Filters items by condition\n",
    "    - Applies a function that returns True or False (predicate).\n",
    "    - Returns only the items that satisfy the condition.\n",
    "3. reduce(): Reduces items to a single value\n",
    "    - Applies a rolling computation to the iterable (e.g., sum, product).\n",
    "    - Returns a single final result."
   ]
  },
  {
   "attachments": {
    "WhatsApp Image 2025-05-22 at 12.08.38_3b6cbf3a.jpg": {
     "image/jpeg": "[encoded data removed]"
    }
   },
   "cell_type": "markdown",
   "id": "c79a6500",
   "metadata": {},
   "source": [
    "11. Using pen & Paper write the internal mechanism for sum operation using reduce function on this given list:[47,11,42,13]\n",
    "\n",
    "\n",
    "\n",
    "\n",
    "![WhatsApp Image 2025-05-22 at 12.08.38_3b6cbf3a.jpg](<attachment:WhatsApp Image 2025-05-22 at 12.08.38_3b6cbf3a.jpg>)"
   ]
  },
  {
   "cell_type": "markdown",
   "id": "9f7ea136",
   "metadata": {},
   "source": [
    "# practical questions"
   ]
  },
  {
   "cell_type": "code",
   "execution_count": 82,
   "id": "ab8976c0",
   "metadata": {},
   "outputs": [
    {
     "name": "stdout",
     "output_type": "stream",
     "text": [
      "Sum of even numbers: 12\n"
     ]
    }
   ],
   "source": [
    "# 1. Write a Python function that takes a list of numbers as input and returns the sum of all even numbers in the list\n",
    "def sum_of_evens(numbers):\n",
    "    return sum(num for num in numbers if num % 2 == 0)\n",
    "nums = [1, 2, 3, 4, 5, 6]\n",
    "result = sum_of_evens(nums)\n",
    "print(\"Sum of even numbers:\", result)"
   ]
  },
  {
   "cell_type": "code",
   "execution_count": 83,
   "id": "45e472af",
   "metadata": {},
   "outputs": [
    {
     "name": "stdout",
     "output_type": "stream",
     "text": [
      "Reversed string: olleh\n"
     ]
    }
   ],
   "source": [
    "# 2. Create a Python function that accepts a string and returns the reverse of that string\n",
    "def reverse_string(s):\n",
    "    return s[::-1]\n",
    "text = \"hello\"\n",
    "reversed_text = reverse_string(text)\n",
    "print(\"Reversed string:\", reversed_text)"
   ]
  },
  {
   "cell_type": "code",
   "execution_count": 84,
   "id": "b0337f2a",
   "metadata": {},
   "outputs": [
    {
     "name": "stdout",
     "output_type": "stream",
     "text": [
      "Squared list: [1, 4, 9, 16, 25]\n"
     ]
    }
   ],
   "source": [
    "# 3. Implement a Python function that takes a list of integers and returns a new list containing the squares of each number.\n",
    "def square_numbers(numbers):\n",
    "    return [num ** 2 for num in numbers]\n",
    "nums = [1, 2, 3, 4, 5]\n",
    "squares = square_numbers(nums)\n",
    "print(\"Squared list:\", squares)\n"
   ]
  },
  {
   "cell_type": "code",
   "execution_count": 85,
   "id": "14dc3171",
   "metadata": {},
   "outputs": [
    {
     "name": "stdout",
     "output_type": "stream",
     "text": [
      "2 is a prime number\n",
      "3 is a prime number\n",
      "5 is a prime number\n",
      "7 is a prime number\n",
      "11 is a prime number\n",
      "13 is a prime number\n",
      "17 is a prime number\n",
      "19 is a prime number\n",
      "23 is a prime number\n",
      "29 is a prime number\n",
      "31 is a prime number\n",
      "37 is a prime number\n",
      "41 is a prime number\n",
      "43 is a prime number\n",
      "47 is a prime number\n",
      "53 is a prime number\n",
      "59 is a prime number\n",
      "61 is a prime number\n",
      "67 is a prime number\n",
      "71 is a prime number\n",
      "73 is a prime number\n",
      "79 is a prime number\n",
      "83 is a prime number\n",
      "89 is a prime number\n",
      "97 is a prime number\n",
      "101 is a prime number\n",
      "103 is a prime number\n",
      "107 is a prime number\n",
      "109 is a prime number\n",
      "113 is a prime number\n",
      "127 is a prime number\n",
      "131 is a prime number\n",
      "137 is a prime number\n",
      "139 is a prime number\n",
      "149 is a prime number\n",
      "151 is a prime number\n",
      "157 is a prime number\n",
      "163 is a prime number\n",
      "167 is a prime number\n",
      "173 is a prime number\n",
      "179 is a prime number\n",
      "181 is a prime number\n",
      "191 is a prime number\n",
      "193 is a prime number\n",
      "197 is a prime number\n",
      "199 is a prime number\n"
     ]
    }
   ],
   "source": [
    "# 4.Write a Python function that checks if a given number is prime or not from 1 to 200.\n",
    "def is_prime(n):\n",
    "    if n < 2 or n > 200:\n",
    "        return False  # Not prime or out of range\n",
    "    for i in range(2, int(n**0.5) + 1):  # Check up to sqrt(n)\n",
    "        if n % i == 0:\n",
    "            return False\n",
    "    return True\n",
    "for num in range(1, 201):\n",
    "    if is_prime(num):\n",
    "        print(num, \"is a prime number\")\n"
   ]
  },
  {
   "cell_type": "code",
   "execution_count": 86,
   "id": "ca1420af",
   "metadata": {},
   "outputs": [
    {
     "name": "stdout",
     "output_type": "stream",
     "text": [
      "0\n",
      "1\n",
      "1\n",
      "1\n",
      "2\n",
      "3\n",
      "5\n",
      "8\n",
      "13\n",
      "21\n"
     ]
    }
   ],
   "source": [
    "# 5. Create an iterator class in Python that generates the Fibonacci sequence up to a specified number of terms.\n",
    "class Fibonacci:\n",
    "    def __init__(self, terms):\n",
    "        self.terms = terms\n",
    "        self.index = 0\n",
    "        self.a, self.b = 0, 1\n",
    "\n",
    "    def __iter__(self):\n",
    "        return self\n",
    "\n",
    "    def __next__(self):\n",
    "        if self.index >= self.terms:\n",
    "            raise StopIteration\n",
    "        if self.index == 0:\n",
    "            self.index += 1\n",
    "            return 0\n",
    "        elif self.index == 1:\n",
    "            self.index += 1\n",
    "            return 1\n",
    "        else:\n",
    "            self.a, self.b = self.b, self.a + self.b\n",
    "            self.index += 1\n",
    "            return self.a\n",
    "fib = Fibonacci(10)\n",
    "for num in fib:\n",
    "    print(num)\n",
    "\n"
   ]
  },
  {
   "cell_type": "code",
   "execution_count": 87,
   "id": "fca49f72",
   "metadata": {},
   "outputs": [
    {
     "name": "stdout",
     "output_type": "stream",
     "text": [
      "1\n",
      "2\n",
      "4\n",
      "8\n",
      "16\n",
      "32\n"
     ]
    }
   ],
   "source": [
    "# 6. Write a generator function in Python that yields the powers of 2 up to a given exponent.\n",
    "\n",
    "def powers_of_two(max_exponent):\n",
    "    for exp in range(max_exponent + 1):\n",
    "        yield 2 ** exp\n",
    "for value in powers_of_two(5):\n",
    "    print(value)\n"
   ]
  },
  {
   "cell_type": "code",
   "execution_count": 88,
   "id": "950de16a",
   "metadata": {},
   "outputs": [],
   "source": [
    "# 7.  Implement a generator function that reads a file line by line and yields each line as a string\n",
    "\n",
    "def read_file_line_by_line(file_path):\n",
    "    with open(file_path, 'r') as file:\n",
    "        for line in file:\n",
    "            yield line.rstrip('\\n')  # yields each line without the trailing newline\n",
    "    for line in read_file_line_by_line('yourfile.txt'):\n",
    "        print(line)\n"
   ]
  },
  {
   "cell_type": "code",
   "execution_count": 89,
   "id": "21f1eba2",
   "metadata": {},
   "outputs": [
    {
     "name": "stdout",
     "output_type": "stream",
     "text": [
      "[(5, 0), (4, 1), (2, 2), (1, 3)]\n"
     ]
    }
   ],
   "source": [
    "# 8. Use a lambda function in Python to sort a list of tuples based on the second element of each tuple.\n",
    "data = [(1, 3), (4, 1), (2, 2), (5, 0)]\n",
    "sorted_data = sorted(data, key=lambda x: x[1])\n",
    "print(sorted_data)\n",
    "\n",
    "\n"
   ]
  },
  {
   "cell_type": "code",
   "execution_count": 90,
   "id": "f58af4d4",
   "metadata": {},
   "outputs": [
    {
     "name": "stdout",
     "output_type": "stream",
     "text": [
      "[32.0, 68.0, 98.6, 212.0]\n"
     ]
    }
   ],
   "source": [
    "# 9.  Write a Python program that uses `map()` to convert a list of temperatures from Celsius to Fahrenheit.\n",
    "\n",
    "def celsius_to_fahrenheit(c):\n",
    "    return (c * 9/5) + 32\n",
    "\n",
    "celsius_temps = [0, 20, 37, 100]\n",
    "\n",
    "fahrenheit_temps = list(map(celsius_to_fahrenheit, celsius_temps))\n",
    "\n",
    "print(fahrenheit_temps)\n"
   ]
  },
  {
   "cell_type": "code",
   "execution_count": 91,
   "id": "63d5ebb0",
   "metadata": {},
   "outputs": [
    {
     "name": "stdout",
     "output_type": "stream",
     "text": [
      "Hll, Wrld!\n"
     ]
    }
   ],
   "source": [
    "# 10. Create a Python program that uses `filter()` to remove all the vowels from a given string\n",
    "\n",
    "def remove_vowels(s):\n",
    "    vowels = 'aeiouAEIOU'\n",
    "    return ''.join(filter(lambda ch: ch not in vowels, s))\n",
    "# Example usage\n",
    "input_str = \"Hello, World!\"\n",
    "result = remove_vowels(input_str)\n",
    "print(result) "
   ]
  },
  {
   "cell_type": "code",
   "execution_count": 92,
   "id": "25efd540",
   "metadata": {},
   "outputs": [
    {
     "name": "stdout",
     "output_type": "stream",
     "text": [
      "[(34587, 163.8), (98762, 284.0), (77226, 108.85000000000001), (88112, 84.97)]\n"
     ]
    }
   ],
   "source": [
    "# 11.Imagine an accounting routine used in a book shop. It works on a list with sublists, which look like this:\n",
    "#    Order Number   Book title and author                  Quantity     Price per item\n",
    "\n",
    "#      34587        learning Python, Mark Lutz                 4           40.95\n",
    "#      98762        Programming python, Mark Lutz              5           56.80\n",
    "#      77226        Head First Python, paul barry              3           32.95\n",
    "#      88112        Einfuhrung in python3, Bernd Klein         3           24.99\n",
    "# Write a Python program, which returns a list with 2-tuples. Each tuple consists of the order number and the product of the price per item and the quantity. The product should be increased by 10,- € if the value of the order is smaller than 100,00 €.\n",
    "# Write a Python program using lambda and map.\n",
    "\n",
    "\n",
    "orders = [\n",
    "    [34587, \"learning Python, Mark Lutz\", 4, 40.95],\n",
    "    [98762, \"Programming python, Mark Lutz\", 5, 56.80],\n",
    "    [77226, \"Head First Python, paul barry\", 3, 32.95],\n",
    "    [88112, \"Einfuhrung in python3, Bernd Klein\", 3, 24.99]\n",
    "]\n",
    "\n",
    "result = list(map(\n",
    "    lambda order: (\n",
    "        order[0],\n",
    "        order[2] * order[3] + (10 if order[2] * order[3] < 100 else 0)\n",
    "    ),\n",
    "    orders\n",
    "))\n",
    "\n",
    "print(result)\n",
    "\n",
    "\n"
   ]
  }
 ],
 "metadata": {
  "kernelspec": {
   "display_name": "Python 3",
   "language": "python",
   "name": "python3"
  },
  "language_info": {
   "codemirror_mode": {
    "name": "ipython",
    "version": 3
   },
   "file_extension": ".py",
   "mimetype": "text/x-python",
   "name": "python",
   "nbconvert_exporter": "python",
   "pygments_lexer": "ipython3",
   "version": "3.13.2"
  }
 },
 "nbformat": 4,
 "nbformat_minor": 5
}
